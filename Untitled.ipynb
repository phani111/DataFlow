{
 "cells": [
  {
   "cell_type": "code",
   "execution_count": 2,
   "metadata": {},
   "outputs": [
    {
     "name": "stdout",
     "output_type": "stream",
     "text": [
      "Welcome to\n",
      "      ____              __\n",
      "     / __/__  ___ _____/ /__\n",
      "    _\\ \\/ _ \\/ _ `/ __/  '_/\n",
      "   /__ / .__/\\_,_/_/ /_/\\_\\   version 2.4.5\n",
      "      /_/\n",
      "\n",
      "Using Python version 3.7.6 (default, Jan  8 2020 13:42:34)\n",
      "SparkSession available as 'spark'.\n"
     ]
    }
   ],
   "source": [
    "import os\n",
    "import sys\n",
    "spark_path = os.environ.get('SPARK_PATH', None)\n",
    "sys.path.insert(0, os.path.join(spark_path, 'python/lib/py4j-0.10.8.1-src.zip'))\n",
    "exec(open(os.path.join(spark_path, 'python/pyspark/shell.py')).read())"
   ]
  },
  {
   "cell_type": "code",
   "execution_count": 2,
   "metadata": {},
   "outputs": [
    {
     "name": "stdout",
     "output_type": "stream",
     "text": [
      "Collecting pandavro\n",
      "  Downloading pandavro-1.5.2.tar.gz (3.8 kB)\n",
      "Requirement already satisfied: fastavro>=0.14.11 in /Users/flybird/opt/anaconda3/lib/python3.7/site-packages (from pandavro) (0.23.3)\n",
      "Requirement already satisfied: numpy>=1.7.0 in /Users/flybird/opt/anaconda3/lib/python3.7/site-packages (from pandavro) (1.18.1)\n",
      "Requirement already satisfied: pandas in /Users/flybird/opt/anaconda3/lib/python3.7/site-packages (from pandavro) (0.25.3)\n",
      "Requirement already satisfied: six>=1.9 in /Users/flybird/opt/anaconda3/lib/python3.7/site-packages (from pandavro) (1.14.0)\n",
      "Requirement already satisfied: pytz in /Users/flybird/opt/anaconda3/lib/python3.7/site-packages (from fastavro>=0.14.11->pandavro) (2019.3)\n",
      "Requirement already satisfied: python-dateutil>=2.6.1 in /Users/flybird/opt/anaconda3/lib/python3.7/site-packages (from pandas->pandavro) (2.8.1)\n",
      "Building wheels for collected packages: pandavro\n",
      "\u001b[33m  WARNING: Building wheel for pandavro failed: [Errno 13] Permission denied: '/Users/flybird/Library/Caches/pip/wheels/33'\u001b[0m\n",
      "Failed to build pandavro\n",
      "Installing collected packages: pandavro\n",
      "    Running setup.py install for pandavro ... \u001b[?25ldone\n",
      "\u001b[?25hSuccessfully installed pandavro-1.5.2\n",
      "\u001b[33mWARNING: You are using pip version 20.1.1; however, version 20.2.3 is available.\n",
      "You should consider upgrading via the '/Users/flybird/opt/anaconda3/bin/python -m pip install --upgrade pip' command.\u001b[0m\n"
     ]
    }
   ],
   "source": [
    "!pip install pandavro"
   ]
  },
  {
   "cell_type": "code",
   "execution_count": 3,
   "metadata": {},
   "outputs": [],
   "source": [
    "import pandavro as pdx"
   ]
  },
  {
   "cell_type": "code",
   "execution_count": 4,
   "metadata": {},
   "outputs": [
    {
     "data": {
      "text/html": [
       "<div>\n",
       "<style scoped>\n",
       "    .dataframe tbody tr th:only-of-type {\n",
       "        vertical-align: middle;\n",
       "    }\n",
       "\n",
       "    .dataframe tbody tr th {\n",
       "        vertical-align: top;\n",
       "    }\n",
       "\n",
       "    .dataframe thead th {\n",
       "        text-align: right;\n",
       "    }\n",
       "</style>\n",
       "<table border=\"1\" class=\"dataframe\">\n",
       "  <thead>\n",
       "    <tr style=\"text-align: right;\">\n",
       "      <th></th>\n",
       "      <th>ACNO</th>\n",
       "      <th>FIELD_1</th>\n",
       "      <th>FIELD_2</th>\n",
       "    </tr>\n",
       "  </thead>\n",
       "  <tbody>\n",
       "    <tr>\n",
       "      <th>0</th>\n",
       "      <td>004000001</td>\n",
       "      <td>2310.878</td>\n",
       "      <td>2310.878</td>\n",
       "    </tr>\n",
       "    <tr>\n",
       "      <th>1</th>\n",
       "      <td>004000002</td>\n",
       "      <td>5093.888</td>\n",
       "      <td>5093.888</td>\n",
       "    </tr>\n",
       "    <tr>\n",
       "      <th>2</th>\n",
       "      <td>004000003</td>\n",
       "      <td>7936.283</td>\n",
       "      <td>7936.283</td>\n",
       "    </tr>\n",
       "    <tr>\n",
       "      <th>3</th>\n",
       "      <td>004000004</td>\n",
       "      <td>7348.914</td>\n",
       "      <td>7348.914</td>\n",
       "    </tr>\n",
       "    <tr>\n",
       "      <th>4</th>\n",
       "      <td>004000005</td>\n",
       "      <td>7586.899</td>\n",
       "      <td>7586.899</td>\n",
       "    </tr>\n",
       "    <tr>\n",
       "      <th>...</th>\n",
       "      <td>...</td>\n",
       "      <td>...</td>\n",
       "      <td>...</td>\n",
       "    </tr>\n",
       "    <tr>\n",
       "      <th>9995</th>\n",
       "      <td>004009996</td>\n",
       "      <td>2969.008</td>\n",
       "      <td>2969.008</td>\n",
       "    </tr>\n",
       "    <tr>\n",
       "      <th>9996</th>\n",
       "      <td>004009997</td>\n",
       "      <td>2983.393</td>\n",
       "      <td>2983.393</td>\n",
       "    </tr>\n",
       "    <tr>\n",
       "      <th>9997</th>\n",
       "      <td>004009998</td>\n",
       "      <td>3601.616</td>\n",
       "      <td>3601.616</td>\n",
       "    </tr>\n",
       "    <tr>\n",
       "      <th>9998</th>\n",
       "      <td>004009999</td>\n",
       "      <td>1020.945</td>\n",
       "      <td>1020.945</td>\n",
       "    </tr>\n",
       "    <tr>\n",
       "      <th>9999</th>\n",
       "      <td>004010000</td>\n",
       "      <td>1192.363</td>\n",
       "      <td>1192.363</td>\n",
       "    </tr>\n",
       "  </tbody>\n",
       "</table>\n",
       "<p>10000 rows × 3 columns</p>\n",
       "</div>"
      ],
      "text/plain": [
       "           ACNO   FIELD_1   FIELD_2\n",
       "0     004000001  2310.878  2310.878\n",
       "1     004000002  5093.888  5093.888\n",
       "2     004000003  7936.283  7936.283\n",
       "3     004000004  7348.914  7348.914\n",
       "4     004000005  7586.899  7586.899\n",
       "...         ...       ...       ...\n",
       "9995  004009996  2969.008  2969.008\n",
       "9996  004009997  2983.393  2983.393\n",
       "9997  004009998  3601.616  3601.616\n",
       "9998  004009999  1020.945  1020.945\n",
       "9999  004010000  1192.363  1192.363\n",
       "\n",
       "[10000 rows x 3 columns]"
      ]
     },
     "execution_count": 4,
     "metadata": {},
     "output_type": "execute_result"
    }
   ],
   "source": [
    "pdx.read_avro('./data/account_id_schema_new.avro')"
   ]
  },
  {
   "cell_type": "code",
   "execution_count": null,
   "metadata": {},
   "outputs": [],
   "source": []
  }
 ],
 "metadata": {
  "kernelspec": {
   "display_name": "Python 3",
   "language": "python",
   "name": "python3"
  },
  "language_info": {
   "codemirror_mode": {
    "name": "ipython",
    "version": 3
   },
   "file_extension": ".py",
   "mimetype": "text/x-python",
   "name": "python",
   "nbconvert_exporter": "python",
   "pygments_lexer": "ipython3",
   "version": "3.7.6"
  },
  "toc": {
   "base_numbering": 1,
   "nav_menu": {},
   "number_sections": true,
   "sideBar": true,
   "skip_h1_title": false,
   "title_cell": "Table of Contents",
   "title_sidebar": "Contents",
   "toc_cell": false,
   "toc_position": {},
   "toc_section_display": true,
   "toc_window_display": false
  }
 },
 "nbformat": 4,
 "nbformat_minor": 4
}
